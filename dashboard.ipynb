{
 "cells": [
  {
   "cell_type": "markdown",
   "metadata": {},
   "source": [
    "# San Francisco Rental Prices Dashboard\n",
    "\n",
    "In this notebook, you will compile the visualizations from the previous analysis into functions that can be used for a Panel dashboard."
   ]
  },
  {
   "cell_type": "code",
   "execution_count": 43,
   "metadata": {},
   "outputs": [
    {
     "name": "stderr",
     "output_type": "stream",
     "text": [
      "WARNING:param.panel_extension: A HoloViz extension was loaded previously. This means the extension is already initialized and the following Panel extensions could not be properly loaded: ['plotly']. If you are loading custom extensions with pn.extension(...) ensure that this is called before any other HoloViz extension such as hvPlot or HoloViews.\n"
     ]
    }
   ],
   "source": [
    "\n",
    "\n",
    "# initial imports\n",
    "import os\n",
    "import pandas as pd\n",
    "import matplotlib.pyplot as plt\n",
    "import hvplot.pandas\n",
    "\n",
    "import plotly.express as px\n",
    "from pathlib import Path\n",
    "from dotenv import load_dotenv\n",
    "from panel.interact import interact\n",
    "import panel as pn\n",
    "\n",
    "# Initialize the Panel Extensions (for Plotly)\n",
    "pn.extension('plotly')\n",
    "\n",
    "%matplotlib inline"
   ]
  },
  {
   "cell_type": "code",
   "execution_count": 25,
   "metadata": {},
   "outputs": [],
   "source": [
    "# Read the Mapbox API key\n",
    "load_dotenv()\n",
    "mapbox_token = os.getenv(\"MAPBOX\")\n",
    "px.set_mapbox_access_token(mapbox_token)"
   ]
  },
  {
   "cell_type": "markdown",
   "metadata": {},
   "source": [
    "# Import Data"
   ]
  },
  {
   "cell_type": "code",
   "execution_count": 26,
   "metadata": {},
   "outputs": [],
   "source": [
    "# Import the CSVs to Pandas DataFrames\n",
    "file_path = Path(\"C:/Users/14259/Desktop/Kevin/UW/FinTech-Bootcamp/homework/Unit-6-PyViz/sfo_neighborhoods_census_data.csv\")\n",
    "sfo_data = pd.read_csv(file_path, index_col=\"year\")\n",
    "\n",
    "file_path = Path(\"C:/Users/14259/Desktop/Kevin/UW/FinTech-Bootcamp/homework/Unit-6-PyViz/neighborhoods_coordinates.csv\")\n",
    "df_neighborhood_locations = pd.read_csv(file_path)"
   ]
  },
  {
   "cell_type": "markdown",
   "metadata": {},
   "source": [
    "- - -"
   ]
  },
  {
   "cell_type": "markdown",
   "metadata": {},
   "source": [
    "## Panel Visualizations\n",
    "\n",
    "In this section, you will copy the code for each plot type from your analysis notebook and place it into separate functions that Panel can use to create panes for the dashboard. \n",
    "\n",
    "These functions will convert the plot object to a Panel pane.\n",
    "\n",
    "Be sure to include any DataFrame transformation/manipulation code required along with the plotting code.\n",
    "\n",
    "Return a Panel pane object from each function that can be used to build the dashboard.\n",
    "\n",
    "Note: Remove any `.show()` lines from the code. We want to return the plots instead of showing them. The Panel dashboard will then display the plots."
   ]
  },
  {
   "cell_type": "code",
   "execution_count": 73,
   "metadata": {},
   "outputs": [],
   "source": [
    "# Define Panel Visualization Functions\n",
    "def housing_units_per_year():\n",
    "    \"\"\"Housing Units Per Year.\"\"\"\n",
    "    \n",
    "    housing_units = sfo_data.groupby('year').mean()\n",
    "    housing_units.drop(['sale_price_sqr_foot', 'gross_rent'], axis =1, inplace = True)\n",
    "    \n",
    "    \n",
    "    minimum = housing_units.min()['housing_units'] - 2000\n",
    "    maximum = housing_units.max()['housing_units'] + 2000\n",
    "    \n",
    "    housing_units_plot = housing_units.plot(legend = False,kind = 'bar',ylim = [minimum, maximum],title = \"Housing Units in San Francisco from 2010 to 2016\")\n",
    "    \n",
    "    return housing_units_plot\n",
    "\n",
    "def average_gross_rent():\n",
    "    \"\"\"Average Gross Rent in San Francisco Per Year.\"\"\"\n",
    "    \n",
    "    avg_rent_sqft = sfo_data.groupby('year').mean()\n",
    "    avg_rent_sqft.drop(['housing_units'], axis =1, inplace = True)\n",
    "    avg_gross_rent = avg_rent_sqft['gross_rent'].plot(title = 'Average Gross Rent in San Francisco')\n",
    "    plt.xlabel('Year')\n",
    "    plt.ylabel('Gross Rent')\n",
    "    plt.close()\n",
    "    \n",
    "    return pn.pane.Matplotlib(avg_rent_sqft)\n",
    "\n",
    "\n",
    "def average_sales_price():\n",
    "    \"\"\"Average Sales Price Per Year.\"\"\"\n",
    "    \n",
    "    avg_rent_sqft = sfo_data.groupby('year').mean()\n",
    "    avg_rent_sqft.drop(['housing_units'], axis =1, inplace = True)\n",
    "    \n",
    "    avg_sales_price = avg_rent_sqft['sale_price_sqr_foot'].plot(title = 'Average Sale Price per Square Foot in San Francisco')\n",
    "    plt.xlabel('Year')\n",
    "    plt.ylabel('Avg. Sale Price')\n",
    "    \n",
    "    return avg_sales_price\n",
    "\n",
    "\n",
    "def average_price_by_neighborhood(neighborhood):\n",
    "    \"\"\"Average Prices by Neighborhood.\"\"\"\n",
    "    \n",
    "    sfo_data1 = sfo_data.groupby([sfo_data.index, 'neighborhood']).mean()\n",
    "    sfo_data2 = pd.DataFrame(sfo_data1).reset_index()\n",
    "    avg_price = sfo_data2.loc[sfo_data2['neighborhood'] == neighborhood].hvplot.line(\n",
    "        x='year',\n",
    "        y='sale_price_sqr_foot',\n",
    "        title='San Francisco Sales Per SQFT per Year'\n",
    "    )\n",
    "    \n",
    "    return avg_price\n",
    "\n",
    "sfo_data1 = sfo_data.groupby([sfo_data.index, 'neighborhood']).mean()\n",
    "sfo_data2 = pd.DataFrame(sfo_data1).reset_index()\n",
    "neighborhood_df = sfo_data2['neighborhood']\n",
    "interact(average_price_by_neighborhood, neighborhood = neighborhood_df)\n",
    "\n",
    "def top_most_expensive_neighborhoods():\n",
    "    \"\"\"Top 10 Most Expensive Neighborhoods.\"\"\"\n",
    "    \n",
    "    top_10 = sfo_data.groupby(['neighborhood']).mean()\n",
    "    top_10_data = pd.DataFrame(top_10).sort_values('sale_price_sqr_foot', ascending = False).head(10).reset_index()\n",
    "    top_10_bar = top_10_data.hvplot.bar(\n",
    "    x='neighborhood',\n",
    "    y='sale_price_sqr_foot',\n",
    "    title='Top 10 Most Expensive Neighborhoods',\n",
    "    rot = 45\n",
    "    \n",
    "    )\n",
    "    \n",
    "    return top_10_bar\n",
    "\n",
    "def parallel_coordinates():\n",
    "    \"\"\"Parallel Coordinates Plot.\"\"\"\n",
    "    \n",
    "    top_10 = sfo_data.groupby(['neighborhood']).mean()\n",
    "    top_10_data = pd.DataFrame(top_10).sort_values('sale_price_sqr_foot', ascending = False).head(10).reset_index()\n",
    "    top_10_parallel = px.parallel_coordinates(top_10_data, color='sale_price_sqr_foot')\n",
    "    \n",
    "    return top_10_parallel\n",
    "    \n",
    "def parallel_categories():\n",
    "    \"\"\"Parallel Categories Plot.\"\"\"\n",
    "    \n",
    "    top_10 = sfo_data.groupby(['neighborhood']).mean()\n",
    "    top_10_data = pd.DataFrame(top_10).sort_values('sale_price_sqr_foot', ascending = False).head(10).reset_index()\n",
    "    top_10_par_categories = px.parallel_categories(top_10_data, dimensions=['neighborhood','sale_price_sqr_foot','housing_units','gross_rent'], color='sale_price_sqr_foot')\n",
    "    \n",
    "    \n",
    "    return top_10_par_categories\n",
    "\n",
    "def neighborhood_map():\n",
    "    \"\"\"Neighborhood Map\"\"\"\n",
    "    \n",
    "    sfo_average = sfo_data.groupby(['neighborhood']).mean()\n",
    "    sfo_average = pd.DataFrame(sfo_average).reset_index()\n",
    "    \n",
    "    avg_value = pd.concat([sfo_average, df_neighborhood_locations], axis ='columns', join = 'inner')\n",
    "    sfo_map = px.scatter_mapbox(avg_value,lat='Lat',lon='Lon',size='sale_price_sqr_foot',color='gross_rent',title='Aerage Sale Price Per Square Foot and Gross Rent in San Francisco')\n",
    "    \n",
    "    return sfo_map\n",
    "\n"
   ]
  },
  {
   "cell_type": "markdown",
   "metadata": {},
   "source": [
    "## Panel Dashboard\n",
    "\n",
    "In this section, you will combine all of the plots into a single dashboard view using Panel. Be creative with your dashboard design!"
   ]
  },
  {
   "cell_type": "code",
   "execution_count": 76,
   "metadata": {},
   "outputs": [],
   "source": [
    "welcome_tab = pn.Row(pn.Column(title), neighborhood_map())\n",
    "\n",
    "neighborhood_analysis_tab = pn.Column(interact(average_price_by_neighborhood, neighborhood = neighborhood_df),\n",
    "    top_most_expensive_neighborhoods(), neighborhood_map())\n",
    "\n",
    "averages_tab = pn.Column(parallel_categories(), parallel_coordinates())\n",
    "\n",
    "# Create tabs\n",
    "\n",
    "panel = pn.Tabs(\n",
    "(\"Neighborhood Analysis\", neighborhood_analysis_tab), \n",
    "(\"Parallel Charts\", parallel_plots_tab))\n",
    "\n"
   ]
  },
  {
   "cell_type": "markdown",
   "metadata": {},
   "source": [
    "## Serve the Panel Dashboard"
   ]
  },
  {
   "cell_type": "code",
   "execution_count": 77,
   "metadata": {},
   "outputs": [
    {
     "data": {
      "application/vnd.holoviews_exec.v0+json": "",
      "text/html": [
       "<div id='5238'>\n",
       "\n",
       "\n",
       "\n",
       "\n",
       "\n",
       "  <div class=\"bk-root\" id=\"4b619d83-8c95-46f5-a74f-19acb83f8266\" data-root-id=\"5238\"></div>\n",
       "</div>\n",
       "<script type=\"application/javascript\">(function(root) {\n",
       "  function embed_document(root) {\n",
       "  var docs_json = {\"6804511b-80e2-4d2d-9193-07b0535b487d\":{\"roots\":{\"references\":[{\"attributes\":{\"factors\":[\"Union Square District\",\"Merced Heights\",\"Miraloma Park\",\"Pacific Heights\",\"Westwood Park\",\"Telegraph Hill\",\"Presidio Heights\",\"Cow Hollow\",\"Potrero Hill\",\"South Beach\"],\"tags\":[[[\"neighborhood\",\"neighborhood\",null]]]},\"id\":\"5305\",\"type\":\"FactorRange\"},{\"attributes\":{},\"id\":\"5265\",\"type\":\"PanTool\"},{\"attributes\":{},\"id\":\"5313\",\"type\":\"CategoricalScale\"},{\"attributes\":{\"axis\":{\"id\":\"5320\"},\"dimension\":1,\"grid_line_color\":null,\"ticker\":null},\"id\":\"5323\",\"type\":\"Grid\"},{\"attributes\":{\"line_alpha\":0.2,\"line_color\":\"#1f77b3\",\"line_width\":2,\"x\":{\"field\":\"year\"},\"y\":{\"field\":\"sale_price_sqr_foot\"}},\"id\":\"5282\",\"type\":\"Line\"},{\"attributes\":{},\"id\":\"5264\",\"type\":\"SaveTool\"},{\"attributes\":{},\"id\":\"5324\",\"type\":\"SaveTool\"},{\"attributes\":{\"fill_alpha\":{\"value\":0.2},\"fill_color\":{\"value\":\"#1f77b3\"},\"line_alpha\":{\"value\":0.2},\"top\":{\"field\":\"sale_price_sqr_foot\"},\"width\":{\"value\":0.8},\"x\":{\"field\":\"neighborhood\"}},\"id\":\"5342\",\"type\":\"VBar\"},{\"attributes\":{\"fill_color\":{\"value\":\"#1f77b3\"},\"top\":{\"field\":\"sale_price_sqr_foot\"},\"width\":{\"value\":0.8},\"x\":{\"field\":\"neighborhood\"}},\"id\":\"5340\",\"type\":\"VBar\"},{\"attributes\":{\"callback\":null,\"renderers\":[{\"id\":\"5343\"}],\"tags\":[\"hv_created\"],\"tooltips\":[[\"neighborhood\",\"@{neighborhood}\"],[\"sale_price_sqr_foot\",\"@{sale_price_sqr_foot}\"]]},\"id\":\"5307\",\"type\":\"HoverTool\"},{\"attributes\":{},\"id\":\"5266\",\"type\":\"WheelZoomTool\"},{\"attributes\":{},\"id\":\"5268\",\"type\":\"ResetTool\"},{\"attributes\":{},\"id\":\"5288\",\"type\":\"BasicTickFormatter\"},{\"attributes\":{\"overlay\":{\"id\":\"5269\"}},\"id\":\"5267\",\"type\":\"BoxZoomTool\"},{\"attributes\":{},\"id\":\"5376\",\"type\":\"UnionRenderers\"},{\"attributes\":{},\"id\":\"5377\",\"type\":\"Selection\"},{\"attributes\":{\"active_drag\":\"auto\",\"active_inspect\":\"auto\",\"active_multi\":null,\"active_scroll\":\"auto\",\"active_tap\":\"auto\",\"tools\":[{\"id\":\"5246\"},{\"id\":\"5264\"},{\"id\":\"5265\"},{\"id\":\"5266\"},{\"id\":\"5267\"},{\"id\":\"5268\"}]},\"id\":\"5270\",\"type\":\"Toolbar\"},{\"attributes\":{\"end\":644.0175329447045,\"reset_end\":644.0175329447045,\"reset_start\":141.1976609302527,\"start\":141.1976609302527,\"tags\":[[[\"sale_price_sqr_foot\",\"sale_price_sqr_foot\",null]]]},\"id\":\"5245\",\"type\":\"Range1d\"},{\"attributes\":{\"_render_count\":0,\"config\":null,\"data\":[{\"hovertemplate\":\"sale_price_sqr_foot=%{marker.size}<br>Lat=%{lat}<br>Lon=%{lon}<br>gross_rent=%{marker.color}<extra></extra>\",\"legendgroup\":\"\",\"marker\":{\"coloraxis\":\"coloraxis\",\"sizemode\":\"area\",\"sizeref\":2.259983144180161},\"mode\":\"markers\",\"name\":\"\",\"showlegend\":false,\"subplot\":\"mapbox\",\"type\":\"scattermapbox\"}],\"data_sources\":[{\"id\":\"5365\"}],\"layout\":{\"coloraxis\":{\"colorbar\":{\"title\":{\"text\":\"gross_rent\"}},\"colorscale\":[[0.0,\"#0d0887\"],[0.1111111111111111,\"#46039f\"],[0.2222222222222222,\"#7201a8\"],[0.3333333333333333,\"#9c179e\"],[0.4444444444444444,\"#bd3786\"],[0.5555555555555556,\"#d8576b\"],[0.6666666666666666,\"#ed7953\"],[0.7777777777777778,\"#fb9f3a\"],[0.8888888888888888,\"#fdca26\"],[1.0,\"#f0f921\"]]},\"legend\":{\"itemsizing\":\"constant\",\"tracegroupgap\":0},\"mapbox\":{\"accesstoken\":\"pk.eyJ1Ijoia3ZuaGFvIiwiYSI6ImNrZmEzMzRtcDBlZzUyeXA3dW9tdnBlcXYifQ.h3Flo2HQi74VoAOCuoViDg\",\"center\":{\"lat\":37.76019350684932,\"lon\":-122.43912380821916},\"domain\":{\"x\":[0.0,1.0],\"y\":[0.0,1.0]},\"zoom\":8},\"template\":{\"data\":{\"bar\":[{\"error_x\":{\"color\":\"#2a3f5f\"},\"error_y\":{\"color\":\"#2a3f5f\"},\"marker\":{\"line\":{\"color\":\"#E5ECF6\",\"width\":0.5}},\"type\":\"bar\"}],\"barpolar\":[{\"marker\":{\"line\":{\"color\":\"#E5ECF6\",\"width\":0.5}},\"type\":\"barpolar\"}],\"carpet\":[{\"aaxis\":{\"endlinecolor\":\"#2a3f5f\",\"gridcolor\":\"white\",\"linecolor\":\"white\",\"minorgridcolor\":\"white\",\"startlinecolor\":\"#2a3f5f\"},\"baxis\":{\"endlinecolor\":\"#2a3f5f\",\"gridcolor\":\"white\",\"linecolor\":\"white\",\"minorgridcolor\":\"white\",\"startlinecolor\":\"#2a3f5f\"},\"type\":\"carpet\"}],\"choropleth\":[{\"colorbar\":{\"outlinewidth\":0,\"ticks\":\"\"},\"type\":\"choropleth\"}],\"contour\":[{\"colorbar\":{\"outlinewidth\":0,\"ticks\":\"\"},\"colorscale\":[[0.0,\"#0d0887\"],[0.1111111111111111,\"#46039f\"],[0.2222222222222222,\"#7201a8\"],[0.3333333333333333,\"#9c179e\"],[0.4444444444444444,\"#bd3786\"],[0.5555555555555556,\"#d8576b\"],[0.6666666666666666,\"#ed7953\"],[0.7777777777777778,\"#fb9f3a\"],[0.8888888888888888,\"#fdca26\"],[1.0,\"#f0f921\"]],\"type\":\"contour\"}],\"contourcarpet\":[{\"colorbar\":{\"outlinewidth\":0,\"ticks\":\"\"},\"type\":\"contourcarpet\"}],\"heatmap\":[{\"colorbar\":{\"outlinewidth\":0,\"ticks\":\"\"},\"colorscale\":[[0.0,\"#0d0887\"],[0.1111111111111111,\"#46039f\"],[0.2222222222222222,\"#7201a8\"],[0.3333333333333333,\"#9c179e\"],[0.4444444444444444,\"#bd3786\"],[0.5555555555555556,\"#d8576b\"],[0.6666666666666666,\"#ed7953\"],[0.7777777777777778,\"#fb9f3a\"],[0.8888888888888888,\"#fdca26\"],[1.0,\"#f0f921\"]],\"type\":\"heatmap\"}],\"heatmapgl\":[{\"colorbar\":{\"outlinewidth\":0,\"ticks\":\"\"},\"colorscale\":[[0.0,\"#0d0887\"],[0.1111111111111111,\"#46039f\"],[0.2222222222222222,\"#7201a8\"],[0.3333333333333333,\"#9c179e\"],[0.4444444444444444,\"#bd3786\"],[0.5555555555555556,\"#d8576b\"],[0.6666666666666666,\"#ed7953\"],[0.7777777777777778,\"#fb9f3a\"],[0.8888888888888888,\"#fdca26\"],[1.0,\"#f0f921\"]],\"type\":\"heatmapgl\"}],\"histogram\":[{\"marker\":{\"colorbar\":{\"outlinewidth\":0,\"ticks\":\"\"}},\"type\":\"histogram\"}],\"histogram2d\":[{\"colorbar\":{\"outlinewidth\":0,\"ticks\":\"\"},\"colorscale\":[[0.0,\"#0d0887\"],[0.1111111111111111,\"#46039f\"],[0.2222222222222222,\"#7201a8\"],[0.3333333333333333,\"#9c179e\"],[0.4444444444444444,\"#bd3786\"],[0.5555555555555556,\"#d8576b\"],[0.6666666666666666,\"#ed7953\"],[0.7777777777777778,\"#fb9f3a\"],[0.8888888888888888,\"#fdca26\"],[1.0,\"#f0f921\"]],\"type\":\"histogram2d\"}],\"histogram2dcontour\":[{\"colorbar\":{\"outlinewidth\":0,\"ticks\":\"\"},\"colorscale\":[[0.0,\"#0d0887\"],[0.1111111111111111,\"#46039f\"],[0.2222222222222222,\"#7201a8\"],[0.3333333333333333,\"#9c179e\"],[0.4444444444444444,\"#bd3786\"],[0.5555555555555556,\"#d8576b\"],[0.6666666666666666,\"#ed7953\"],[0.7777777777777778,\"#fb9f3a\"],[0.8888888888888888,\"#fdca26\"],[1.0,\"#f0f921\"]],\"type\":\"histogram2dcontour\"}],\"mesh3d\":[{\"colorbar\":{\"outlinewidth\":0,\"ticks\":\"\"},\"type\":\"mesh3d\"}],\"parcoords\":[{\"line\":{\"colorbar\":{\"outlinewidth\":0,\"ticks\":\"\"}},\"type\":\"parcoords\"}],\"pie\":[{\"automargin\":true,\"type\":\"pie\"}],\"scatter\":[{\"marker\":{\"colorbar\":{\"outlinewidth\":0,\"ticks\":\"\"}},\"type\":\"scatter\"}],\"scatter3d\":[{\"line\":{\"colorbar\":{\"outlinewidth\":0,\"ticks\":\"\"}},\"marker\":{\"colorbar\":{\"outlinewidth\":0,\"ticks\":\"\"}},\"type\":\"scatter3d\"}],\"scattercarpet\":[{\"marker\":{\"colorbar\":{\"outlinewidth\":0,\"ticks\":\"\"}},\"type\":\"scattercarpet\"}],\"scattergeo\":[{\"marker\":{\"colorbar\":{\"outlinewidth\":0,\"ticks\":\"\"}},\"type\":\"scattergeo\"}],\"scattergl\":[{\"marker\":{\"colorbar\":{\"outlinewidth\":0,\"ticks\":\"\"}},\"type\":\"scattergl\"}],\"scattermapbox\":[{\"marker\":{\"colorbar\":{\"outlinewidth\":0,\"ticks\":\"\"}},\"type\":\"scattermapbox\"}],\"scatterpolar\":[{\"marker\":{\"colorbar\":{\"outlinewidth\":0,\"ticks\":\"\"}},\"type\":\"scatterpolar\"}],\"scatterpolargl\":[{\"marker\":{\"colorbar\":{\"outlinewidth\":0,\"ticks\":\"\"}},\"type\":\"scatterpolargl\"}],\"scatterternary\":[{\"marker\":{\"colorbar\":{\"outlinewidth\":0,\"ticks\":\"\"}},\"type\":\"scatterternary\"}],\"surface\":[{\"colorbar\":{\"outlinewidth\":0,\"ticks\":\"\"},\"colorscale\":[[0.0,\"#0d0887\"],[0.1111111111111111,\"#46039f\"],[0.2222222222222222,\"#7201a8\"],[0.3333333333333333,\"#9c179e\"],[0.4444444444444444,\"#bd3786\"],[0.5555555555555556,\"#d8576b\"],[0.6666666666666666,\"#ed7953\"],[0.7777777777777778,\"#fb9f3a\"],[0.8888888888888888,\"#fdca26\"],[1.0,\"#f0f921\"]],\"type\":\"surface\"}],\"table\":[{\"cells\":{\"fill\":{\"color\":\"#EBF0F8\"},\"line\":{\"color\":\"white\"}},\"header\":{\"fill\":{\"color\":\"#C8D4E3\"},\"line\":{\"color\":\"white\"}},\"type\":\"table\"}]},\"layout\":{\"annotationdefaults\":{\"arrowcolor\":\"#2a3f5f\",\"arrowhead\":0,\"arrowwidth\":1},\"coloraxis\":{\"colorbar\":{\"outlinewidth\":0,\"ticks\":\"\"}},\"colorscale\":{\"diverging\":[[0,\"#8e0152\"],[0.1,\"#c51b7d\"],[0.2,\"#de77ae\"],[0.3,\"#f1b6da\"],[0.4,\"#fde0ef\"],[0.5,\"#f7f7f7\"],[0.6,\"#e6f5d0\"],[0.7,\"#b8e186\"],[0.8,\"#7fbc41\"],[0.9,\"#4d9221\"],[1,\"#276419\"]],\"sequential\":[[0.0,\"#0d0887\"],[0.1111111111111111,\"#46039f\"],[0.2222222222222222,\"#7201a8\"],[0.3333333333333333,\"#9c179e\"],[0.4444444444444444,\"#bd3786\"],[0.5555555555555556,\"#d8576b\"],[0.6666666666666666,\"#ed7953\"],[0.7777777777777778,\"#fb9f3a\"],[0.8888888888888888,\"#fdca26\"],[1.0,\"#f0f921\"]],\"sequentialminus\":[[0.0,\"#0d0887\"],[0.1111111111111111,\"#46039f\"],[0.2222222222222222,\"#7201a8\"],[0.3333333333333333,\"#9c179e\"],[0.4444444444444444,\"#bd3786\"],[0.5555555555555556,\"#d8576b\"],[0.6666666666666666,\"#ed7953\"],[0.7777777777777778,\"#fb9f3a\"],[0.8888888888888888,\"#fdca26\"],[1.0,\"#f0f921\"]]},\"colorway\":[\"#636efa\",\"#EF553B\",\"#00cc96\",\"#ab63fa\",\"#FFA15A\",\"#19d3f3\",\"#FF6692\",\"#B6E880\",\"#FF97FF\",\"#FECB52\"],\"font\":{\"color\":\"#2a3f5f\"},\"geo\":{\"bgcolor\":\"white\",\"lakecolor\":\"white\",\"landcolor\":\"#E5ECF6\",\"showlakes\":true,\"showland\":true,\"subunitcolor\":\"white\"},\"hoverlabel\":{\"align\":\"left\"},\"hovermode\":\"closest\",\"mapbox\":{\"style\":\"light\"},\"paper_bgcolor\":\"white\",\"plot_bgcolor\":\"#E5ECF6\",\"polar\":{\"angularaxis\":{\"gridcolor\":\"white\",\"linecolor\":\"white\",\"ticks\":\"\"},\"bgcolor\":\"#E5ECF6\",\"radialaxis\":{\"gridcolor\":\"white\",\"linecolor\":\"white\",\"ticks\":\"\"}},\"scene\":{\"xaxis\":{\"backgroundcolor\":\"#E5ECF6\",\"gridcolor\":\"white\",\"gridwidth\":2,\"linecolor\":\"white\",\"showbackground\":true,\"ticks\":\"\",\"zerolinecolor\":\"white\"},\"yaxis\":{\"backgroundcolor\":\"#E5ECF6\",\"gridcolor\":\"white\",\"gridwidth\":2,\"linecolor\":\"white\",\"showbackground\":true,\"ticks\":\"\",\"zerolinecolor\":\"white\"},\"zaxis\":{\"backgroundcolor\":\"#E5ECF6\",\"gridcolor\":\"white\",\"gridwidth\":2,\"linecolor\":\"white\",\"showbackground\":true,\"ticks\":\"\",\"zerolinecolor\":\"white\"}},\"shapedefaults\":{\"line\":{\"color\":\"#2a3f5f\"}},\"ternary\":{\"aaxis\":{\"gridcolor\":\"white\",\"linecolor\":\"white\",\"ticks\":\"\"},\"baxis\":{\"gridcolor\":\"white\",\"linecolor\":\"white\",\"ticks\":\"\"},\"bgcolor\":\"#E5ECF6\",\"caxis\":{\"gridcolor\":\"white\",\"linecolor\":\"white\",\"ticks\":\"\"}},\"title\":{\"x\":0.05},\"xaxis\":{\"automargin\":true,\"gridcolor\":\"white\",\"linecolor\":\"white\",\"ticks\":\"\",\"title\":{\"standoff\":15},\"zerolinecolor\":\"white\",\"zerolinewidth\":2},\"yaxis\":{\"automargin\":true,\"gridcolor\":\"white\",\"linecolor\":\"white\",\"ticks\":\"\",\"title\":{\"standoff\":15},\"zerolinecolor\":\"white\",\"zerolinewidth\":2}}},\"title\":{\"text\":\"Aerage Sale Price Per Square Foot and Gross Rent in San Francisco\"}},\"margin\":[5,5,5,5],\"name\":\"Plotly11282\",\"viewport_update_throttle\":200},\"id\":\"5366\",\"type\":\"panel.models.plotly.PlotlyPlot\"},{\"attributes\":{\"children\":[{\"id\":\"5247\"}],\"margin\":[0,0,0,0],\"name\":\"Row11199\"},\"id\":\"5243\",\"type\":\"Row\"},{\"attributes\":{},\"id\":\"5325\",\"type\":\"PanTool\"},{\"attributes\":{},\"id\":\"5318\",\"type\":\"CategoricalTicker\"},{\"attributes\":{\"text\":\"San Francisco Sales Per SQFT per Year\",\"text_color\":{\"value\":\"black\"},\"text_font_size\":{\"value\":\"12pt\"}},\"id\":\"5248\",\"type\":\"Title\"},{\"attributes\":{\"overlay\":{\"id\":\"5329\"}},\"id\":\"5327\",\"type\":\"BoxZoomTool\"},{\"attributes\":{\"margin\":[5,10,5,10],\"options\":[\"Alamo Square\",\"Anza Vista\",\"Bayview\",\"Buena Vista Park\",\"Central Richmond\",\"Central Sunset\",\"Corona Heights\",\"Cow Hollow\",\"Croker Amazon\",\"Diamond Heights\",\"Downtown \",\"Eureka Valley/Dolores Heights\",\"Excelsior\",\"Financial District North\",\"Financial District South\",\"Forest Knolls\",\"Glen Park\",\"Golden Gate Heights\",\"Haight Ashbury\",\"Hayes Valley\",\"Hunters Point\",\"Ingleside \",\"Inner Mission\",\"Inner Parkside\",\"Inner Richmond\",\"Inner Sunset\",\"Jordan Park/Laurel Heights\",\"Lake --The Presidio\",\"Lone Mountain\",\"Lower Pacific Heights\",\"Marina\",\"Miraloma Park\",\"Mission Bay\",\"Mission Dolores\",\"Mission Terrace\",\"Nob Hill\",\"Noe Valley\",\"Oceanview\",\"Outer Parkside\",\"Outer Richmond \",\"Outer Sunset\",\"Pacific Heights\",\"Park North\",\"Parkside\",\"Parnassus/Ashbury Heights\",\"Portola\",\"Potrero Hill\",\"Presidio Heights\",\"Russian Hill\",\"South Beach\",\"South of Market\",\"Sunnyside\",\"Telegraph Hill\",\"Twin Peaks\",\"Union Square District\",\"Van Ness/ Civic Center\",\"West Portal\",\"Western Addition\",\"Yerba Buena\",\"Alamo Square\",\"Bayview\",\"Bernal Heights \",\"Buena Vista Park\",\"Central Richmond\",\"Central Sunset\",\"Clarendon Heights\",\"Corona Heights\",\"Cow Hollow\",\"Croker Amazon\",\"Diamond Heights\",\"Downtown \",\"Duboce Triangle\",\"Eureka Valley/Dolores Heights\",\"Financial District North\",\"Financial District South\",\"Glen Park\",\"Golden Gate Heights\",\"Haight Ashbury\",\"Hayes Valley\",\"Ingleside \",\"Ingleside Heights\",\"Inner Mission\",\"Inner Richmond\",\"Inner Sunset\",\"Jordan Park/Laurel Heights\",\"Lake --The Presidio\",\"Lone Mountain\",\"Lower Pacific Heights\",\"Marina\",\"Miraloma Park\",\"Mission Bay\",\"Mission Dolores\",\"Nob Hill\",\"Noe Valley\",\"North Beach\",\"North Waterfront\",\"Outer Mission\",\"Outer Parkside\",\"Outer Richmond \",\"Outer Sunset\",\"Pacific Heights\",\"Park North\",\"Parkside\",\"Parnassus/Ashbury Heights\",\"Portola\",\"Potrero Hill\",\"Presidio Heights\",\"Russian Hill\",\"South Beach\",\"South of Market\",\"Sunnyside\",\"Telegraph Hill\",\"Twin Peaks\",\"Union Square District\",\"Van Ness/ Civic Center\",\"Western Addition\",\"Westwood Highlands\",\"Yerba Buena\",\"Alamo Square\",\"Anza Vista\",\"Bayview\",\"Bernal Heights \",\"Buena Vista Park\",\"Central Richmond\",\"Central Sunset\",\"Corona Heights\",\"Cow Hollow\",\"Croker Amazon\",\"Diamond Heights\",\"Downtown \",\"Duboce Triangle\",\"Eureka Valley/Dolores Heights\",\"Excelsior\",\"Financial District North\",\"Financial District South\",\"Forest Knolls\",\"Haight Ashbury\",\"Hayes Valley\",\"Inner Mission\",\"Inner Richmond\",\"Inner Sunset\",\"Jordan Park/Laurel Heights\",\"Lake --The Presidio\",\"Lone Mountain\",\"Lower Pacific Heights\",\"Marina\",\"Merced Heights\",\"Midtown Terrace\",\"Miraloma Park\",\"Mission Bay\",\"Mission Dolores\",\"Nob Hill\",\"Noe Valley\",\"North Beach\",\"North Waterfront\",\"Oceanview\",\"Outer Mission\",\"Outer Parkside\",\"Outer Richmond \",\"Outer Sunset\",\"Pacific Heights\",\"Park North\",\"Parkside\",\"Parnassus/Ashbury Heights\",\"Portola\",\"Potrero Hill\",\"Presidio Heights\",\"Russian Hill\",\"South of Market\",\"Telegraph Hill\",\"Twin Peaks\",\"Union Square District\",\"Van Ness/ Civic Center\",\"West Portal\",\"Western Addition\",\"Yerba Buena\",\"Alamo Square\",\"Anza Vista\",\"Bayview\",\"Bernal Heights \",\"Buena Vista Park\",\"Central Richmond\",\"Central Sunset\",\"Clarendon Heights\",\"Cow Hollow\",\"Croker Amazon\",\"Diamond Heights\",\"Downtown \",\"Eureka Valley/Dolores Heights\",\"Excelsior\",\"Financial District North\",\"Glen Park\",\"Golden Gate Heights\",\"Haight Ashbury\",\"Hayes Valley\",\"Inner Mission\",\"Inner Richmond\",\"Inner Sunset\",\"Jordan Park/Laurel Heights\",\"Lake --The Presidio\",\"Lone Mountain\",\"Lower Pacific Heights\",\"Marina\",\"Midtown Terrace\",\"Mission Bay\",\"Mission Dolores\",\"Mission Terrace\",\"Nob Hill\",\"Noe Valley\",\"North Beach\",\"North Waterfront\",\"Outer Parkside\",\"Outer Richmond \",\"Outer Sunset\",\"Pacific Heights\",\"Park North\",\"Parkside\",\"Parnassus/Ashbury Heights\",\"Portola\",\"Potrero Hill\",\"Presidio Heights\",\"Russian Hill\",\"South of Market\",\"Sunnyside\",\"Telegraph Hill\",\"Twin Peaks\",\"Union Square District\",\"Van Ness/ Civic Center\",\"Visitacion Valley\",\"West Portal\",\"Western Addition\",\"Westwood Highlands\",\"Yerba Buena\",\"Alamo Square\",\"Anza Vista\",\"Bayview\",\"Bernal Heights \",\"Central Richmond\",\"Central Sunset\",\"Corona Heights\",\"Cow Hollow\",\"Downtown \",\"Duboce Triangle\",\"Eureka Valley/Dolores Heights\",\"Excelsior\",\"Financial District North\",\"Financial District South\",\"Glen Park\",\"Golden Gate Heights\",\"Haight Ashbury\",\"Hayes Valley\",\"Ingleside \",\"Inner Mission\",\"Inner Parkside\",\"Inner Richmond\",\"Inner Sunset\",\"Jordan Park/Laurel Heights\",\"Lake --The Presidio\",\"Lone Mountain\",\"Lower Pacific Heights\",\"Marina\",\"Merced Heights\",\"Miraloma Park\",\"Mission Bay\",\"Mission Dolores\",\"Mission Terrace\",\"Nob Hill\",\"Noe Valley\",\"North Waterfront\",\"Outer Parkside\",\"Outer Richmond \",\"Outer Sunset\",\"Pacific Heights\",\"Park North\",\"Parkside\",\"Parnassus/Ashbury Heights\",\"Portola\",\"Potrero Hill\",\"Presidio Heights\",\"Russian Hill\",\"Silver Terrace\",\"South Beach\",\"South of Market\",\"Sunnyside\",\"Telegraph Hill\",\"Twin Peaks\",\"Union Square District\",\"Van Ness/ Civic Center\",\"Visitacion Valley\",\"West Portal\",\"Western Addition\",\"Westwood Park\",\"Yerba Buena\",\"Alamo Square\",\"Anza Vista\",\"Bayview Heights\",\"Bernal Heights \",\"Buena Vista Park\",\"Central Richmond\",\"Central Sunset\",\"Corona Heights\",\"Cow Hollow\",\"Croker Amazon\",\"Downtown \",\"Duboce Triangle\",\"Eureka Valley/Dolores Heights\",\"Excelsior\",\"Financial District North\",\"Financial District South\",\"Glen Park\",\"Golden Gate Heights\",\"Haight Ashbury\",\"Hayes Valley\",\"Hunters Point\",\"Ingleside \",\"Inner Mission\",\"Inner Parkside\",\"Inner Richmond\",\"Inner Sunset\",\"Jordan Park/Laurel Heights\",\"Lake --The Presidio\",\"Lone Mountain\",\"Lower Pacific Heights\",\"Marina\",\"Mission Dolores\",\"Mission Terrace\",\"Nob Hill\",\"Noe Valley\",\"North Beach\",\"North Waterfront\",\"Oceanview\",\"Outer Mission\",\"Outer Parkside\",\"Outer Richmond \",\"Outer Sunset\",\"Pacific Heights\",\"Park North\",\"Parkside\",\"Parnassus/Ashbury Heights\",\"Potrero Hill\",\"Presidio Heights\",\"Russian Hill\",\"South of Market\",\"Sunnyside\",\"Telegraph Hill\",\"Twin Peaks\",\"Union Square District\",\"Van Ness/ Civic Center\",\"Visitacion Valley\",\"Western Addition\",\"Yerba Buena\",\"Alamo Square\",\"Anza Vista\",\"Bernal Heights \",\"Buena Vista Park\",\"Central Richmond\",\"Central Sunset\",\"Cow Hollow\",\"Croker Amazon\",\"Downtown \",\"Eureka Valley/Dolores Heights\",\"Excelsior\",\"Financial District North\",\"Glen Park\",\"Haight Ashbury\",\"Hayes Valley\",\"Ingleside Heights\",\"Inner Mission\",\"Inner Parkside\",\"Inner Richmond\",\"Inner Sunset\",\"Jordan Park/Laurel Heights\",\"Lower Pacific Heights\",\"Marina\",\"Merced Heights\",\"Mission Bay\",\"Mission Terrace\",\"Nob Hill\",\"Noe Valley\",\"North Beach\",\"Outer Mission\",\"Outer Parkside\",\"Outer Richmond \",\"Outer Sunset\",\"Pacific Heights\",\"Park North\",\"Parnassus/Ashbury Heights\",\"Potrero Hill\",\"Presidio Heights\",\"Russian Hill\",\"South of Market\",\"Sunnyside\",\"Telegraph Hill\",\"Twin Peaks\",\"Van Ness/ Civic Center\",\"Visitacion Valley\",\"Westwood Park\"],\"title\":\"neighborhood\",\"value\":\"Alamo Square\"},\"id\":\"5242\",\"type\":\"Select\"},{\"attributes\":{},\"id\":\"5328\",\"type\":\"ResetTool\"},{\"attributes\":{\"data\":{\"neighborhood\":[\"Union Square District\",\"Merced Heights\",\"Miraloma Park\",\"Pacific Heights\",\"Westwood Park\",\"Telegraph Hill\",\"Presidio Heights\",\"Cow Hollow\",\"Potrero Hill\",\"South Beach\"],\"sale_price_sqr_foot\":{\"__ndarray__\":\"JRAUMfI/jEB9IrkvwqaIQFx/3pp8XohAFpsVUHKMhUBs0ERas3iFQL0KhXgNJIVAy835O80ahUANV25bts+EQJrMCuEbsIRAya3y7v5QhEA=\",\"dtype\":\"float64\",\"order\":\"little\",\"shape\":[10]}},\"selected\":{\"id\":\"5338\"},\"selection_policy\":{\"id\":\"5355\"}},\"id\":\"5337\",\"type\":\"ColumnDataSource\"},{\"attributes\":{\"align\":null,\"below\":[{\"id\":\"5317\"}],\"center\":[{\"id\":\"5319\"},{\"id\":\"5323\"}],\"left\":[{\"id\":\"5320\"}],\"margin\":null,\"min_border_bottom\":10,\"min_border_left\":10,\"min_border_right\":10,\"min_border_top\":10,\"plot_height\":300,\"plot_width\":700,\"renderers\":[{\"id\":\"5343\"}],\"sizing_mode\":\"fixed\",\"title\":{\"id\":\"5309\"},\"toolbar\":{\"id\":\"5330\"},\"x_range\":{\"id\":\"5305\"},\"x_scale\":{\"id\":\"5313\"},\"y_range\":{\"id\":\"5245\"},\"y_scale\":{\"id\":\"5315\"}},\"id\":\"5308\",\"subtype\":\"Figure\",\"type\":\"Plot\"},{\"attributes\":{\"line_color\":\"#1f77b3\",\"line_width\":2,\"x\":{\"field\":\"year\"},\"y\":{\"field\":\"sale_price_sqr_foot\"}},\"id\":\"5280\",\"type\":\"Line\"},{\"attributes\":{\"line_alpha\":0.1,\"line_color\":\"#1f77b3\",\"line_width\":2,\"x\":{\"field\":\"year\"},\"y\":{\"field\":\"sale_price_sqr_foot\"}},\"id\":\"5281\",\"type\":\"Line\"},{\"attributes\":{\"data\":{\"lat\":[{\"__ndarray__\":\"LV+X4T/lQkB1AwXeyeNCQBmto6oJ3kJAvqQxWkfdQkA2cXK/Q91CQDQMHxFT4kJAVvFG5pHjQkCVYHE4899CQPjfSnZs4EJAcQM+P4zkQkDoMF9egOVCQD/G3LWE3EJANnFyv0PdQkCMZ9DQP+VCQMPYQpCD4kJA8WjjiLXgQkC+pDFaR91CQIxn0NA/5UJAjGfQ0D/lQkAMjpJX5+BCQDZxcr9D3UJAe5+qQgPhQkDLoUW28+FCQMuhRbbz4UJA4nX9gt3cQkBIE+8AT9xCQHiXi/hO3EJAxvmbUIjgQkCVYHE4899CQAd7E0Ny4kJAlWBxOPPfQkBxAz4/jORCQIOLFTWY5kJAXW3F/rLjQkDoMF9egOVCQIP6ljld5kJAY7SOqibcQkD430p2bOBCQOAtkKD43UJAf59x4UDkQkCO6QlLPOBCQDZxcr9D3UJA6DBfXoDlQkD430p2bOBCQApoImx45kJACmgibHjmQkBjtI6qJtxCQD/G3LWE3EJAnDOitDfgQkBmg0wycuJCQJVgcTjz30JA6DBfXoDlQkC+h0uOO91CQJVgcTjz30JAL26jAbzhQkAZraOqCd5CQHb9gt2w3UJAcQM+P4zkQkDoMF9egOVCQBmto6oJ3kJAf59x4UDkQkCMZ9DQP+VCQOAtkKD43UJACmgibHjmQkDIW65+bOBCQIxn0NA/5UJA1XPS+8bjQkC+pDFaR91CQLtE9dbA3kJA6DBfXoDlQkCDL0ymCt5CQOAtkKD43UJA6DBfXoDlQkA=\",\"dtype\":\"float64\",\"order\":\"little\",\"shape\":[73]}],\"lon\":[{\"__ndarray__\":\"L26jAbyZXsA5mE2AYZxewPfuj/eqmV7A2dMOf02aXsCKH2PuWpxewLWJk/sdnF7AQspPqn2cXsB9VwT/W59ewC2VtyOcnF7Ad76fGi+dXsAge73745tewEPFOH8TnF7Aih9j7lqcXsAvbqMBvJlewOmf4GJFm17AAyFZwAScXsDZ0w5/TZpewC9uowG8mV7AL26jAbyZXsAkr84xIJ1ewIofY+5anF7AJyzxgLKdXsBPl8XE5ptewE+XxcTmm17ApFNXPsuXXsBmu0IfLJ9ewDY3picsn17AzOmymNiaXsB9VwT/W59ewEjdzr7ynl7AWoEhq1ufXsB3vp8aL51ewIjvxKwXnV7APz+MEB6dXsAge73745tewBU1mIbhnV7Aj+TyH9KdXsAtlbcjnJxewGmR7Xw/nV7AHcnlP6SZXsC6ZvLNNptewIofY+5anF7AIHu9++ObXsAtlbcjnJxewKuy74rgmV7Aq7LviuCZXsCP5PIf0p1ewEPFOH8TnF7ABoGVQ4ucXsDp1JXP8p5ewH1XBP9bn17AIHu9++ObXsDHM2jon55ewH1XBP9bn17A7MA5I0qdXsD37o/3qplewDehEAGHmF7Ad76fGi+dXsAge73745tewPfuj/eqmV7AHcnlP6SZXsAvbqMBvJlewGmR7Xw/nV7Aq7LviuCZXsBF14UfnJxewC9uowG8mV7AAkht4uSaXsDZ0w5/TZpewC9RvTWwnV7AIHu9++ObXsD/Qo8YPZ1ewGmR7Xw/nV7AVFxV9l2ZXsA=\",\"dtype\":\"float64\",\"order\":\"little\",\"shape\":[73]}],\"marker.color\":[{\"__ndarray__\":\"SZIkSZICpkCrqqqqqq+nQM3MzMzMHKJAAAAAAAA2rUCrqqqqqhCoQKuqqqqqFaVASZIkSZICpkBJkiRJkgKmQAAAAAAAlaFAAAAAAABQo0BJkiRJkgKmQKuqqqqqFaVAAAAAAACAn0BJkiRJkgKmQAAAAACAuKVASZIkSZICpkCrqqqqqq+nQEmSJEmSAqZAAAAAAABQo0AAAAAAANabQAAAAAAAp6ZAzczMzMxSpEBJkiRJkgKmQEmSJEmSAqZAAAAAAAByo0AAAAAAAJqjQAAAAAAAIKdASZIkSZICpkAAAAAAADCpQEmSJEmSAqZASZIkSZICpkBJkiRJkgKmQFVVVVVV9qNAVVVVVVX2o0BJkiRJkgKmQEmSJEmSAqZAAAAAAACsqkAAAAAAAK+kQAAAAACA1qBAVVVVVVXPpEBVVVVVVfajQM3MzMzMyqhASZIkSZICpkBJkiRJkgKmQJqZmZmZXadAzczMzMwEpkAAAAAAAASjQAAAAACAZ6dASZIkSZICpkBJkiRJkgKmQEmSJEmSAqZASZIkSZICpkBJkiRJkgKmQFVVVVVV9qNASZIkSZICpkDNzMzMzByiQEmSJEmSAqZASZIkSZICpkBJkiRJkgKmQAAAAAAAkKtAAAAAAABmoEBJkiRJkgKmQAAAAAAAp6ZASZIkSZICpkBJkiRJkgKmQFVVVVVV9qNASZIkSZICpkAAAAAAAJKsQAAAAAAAp6NAVVVVVVX2o0AAAAAAAJWhQAAAAAAA7q5AVVVVVVX2o0A=\",\"dtype\":\"float64\",\"order\":\"little\",\"shape\":[73]}],\"marker.size\":[{\"__ndarray__\":\"cJyd1VTgdkAk1Xd7HVZ3QMu7p//VkmlA/m3ou1d2gkCwicLO+AWCQOHeULPjSnxAkyM5JcKmeEDxRHrAAXt6QGAgnA3rc35AdiCNAlBcgkANV25bts+EQC2aqyMR8HJADjYuKt4ve0BAExo283Z4QAT0IiSWaX9Azb8HR/0RhECMIKw8QUx4QEysfO/MdXhARl0VIGF9fEDnKA0RdB10QMn/9wKcfoNAa+R3ASb7g0BCjahYtxh8QECb/9zsPnZABT/1V/9TZUCYt5qCUv52QPmqSlDEDHhAfmgaicfaeECrA3m3FTuAQN85W0+CqXdAyXixJK7aeUCo3p7PEouAQBsbzgZFn3lA1YI2J6jjfUADLzpc59mAQOt1/4D+PYJAfSK5L8KmiEDjM3wxFTSBQFx/3pp8XohAcr9Bp4mxgUC9Hcljpi56QAabwse6W4BAhQqU+EOjfEAzwd8Vi/OAQA1GhppZunlANYyg6lAkf0A0VzbjjqF0QGONxdbeS25ATpTGpG5QfkAuXEiRaZ59QGJw/yeBo3hAFpsVUHKMhUAyVprHuVt3QBQ4ODjDAnVAYJzjcuzFg0CTVGKj0nF0QJrMCuEbsIRAy835O80ahUBvvf+g3QeDQNMptI5cSWVAya3y7v5QhECG4cLhK9KBQP9hf/GLgoBAvQqFeA0khUCLIC7GYFZ9QCUQFDHyP4xAR1RQI2dCeUCgCCJ5dddyQMr0d9XQJ39AXWt0xv44c0BA3+aooa2AQGzQRFqzeIVAg478xK0FgkA=\",\"dtype\":\"float64\",\"order\":\"little\",\"shape\":[73]}]},\"selected\":{\"id\":\"5377\"},\"selection_policy\":{\"id\":\"5376\"}},\"id\":\"5365\",\"type\":\"ColumnDataSource\"},{\"attributes\":{},\"id\":\"5338\",\"type\":\"Selection\"},{\"attributes\":{\"text\":\"Top 10 Most Expensive Neighborhoods\",\"text_color\":{\"value\":\"black\"},\"text_font_size\":{\"value\":\"12pt\"}},\"id\":\"5309\",\"type\":\"Title\"},{\"attributes\":{},\"id\":\"5261\",\"type\":\"BasicTicker\"},{\"attributes\":{},\"id\":\"5295\",\"type\":\"UnionRenderers\"},{\"attributes\":{},\"id\":\"5355\",\"type\":\"UnionRenderers\"},{\"attributes\":{},\"id\":\"5348\",\"type\":\"BasicTickFormatter\"},{\"attributes\":{\"callback\":null,\"renderers\":[{\"id\":\"5283\"}],\"tags\":[\"hv_created\"],\"tooltips\":[[\"year\",\"@{year}\"],[\"sale_price_sqr_foot\",\"@{sale_price_sqr_foot}\"]]},\"id\":\"5246\",\"type\":\"HoverTool\"},{\"attributes\":{\"margin\":[5,5,5,5],\"name\":\"Str06954\",\"text\":\"&lt;pre&gt;AxesSubplot(0.125,0.125;0.775x0.755)&lt;/pre&gt;\"},\"id\":\"5369\",\"type\":\"panel.models.markup.HTML\"},{\"attributes\":{\"bottom_units\":\"screen\",\"fill_alpha\":0.5,\"fill_color\":\"lightgrey\",\"left_units\":\"screen\",\"level\":\"overlay\",\"line_alpha\":1.0,\"line_color\":\"black\",\"line_dash\":[4,4],\"line_width\":2,\"right_units\":\"screen\",\"top_units\":\"screen\"},\"id\":\"5269\",\"type\":\"BoxAnnotation\"},{\"attributes\":{\"axis_label\":\"neighborhood\",\"bounds\":\"auto\",\"formatter\":{\"id\":\"5345\"},\"major_label_orientation\":0.7853981633974483,\"ticker\":{\"id\":\"5318\"}},\"id\":\"5317\",\"type\":\"CategoricalAxis\"},{\"attributes\":{\"axis_label\":\"sale_price_sqr_foot\",\"bounds\":\"auto\",\"formatter\":{\"id\":\"5288\"},\"major_label_orientation\":\"horizontal\",\"ticker\":{\"id\":\"5261\"}},\"id\":\"5260\",\"type\":\"LinearAxis\"},{\"attributes\":{},\"id\":\"5257\",\"type\":\"BasicTicker\"},{\"attributes\":{\"source\":{\"id\":\"5337\"}},\"id\":\"5344\",\"type\":\"CDSView\"},{\"attributes\":{},\"id\":\"5326\",\"type\":\"WheelZoomTool\"},{\"attributes\":{},\"id\":\"5254\",\"type\":\"LinearScale\"},{\"attributes\":{\"client_comm_id\":\"7c46c175c8804ecfaeef18c812b84312\",\"comm_id\":\"96e66a8a2799461884410c15107a7821\",\"plot_id\":\"5238\"},\"id\":\"5425\",\"type\":\"panel.models.comm_manager.CommManager\"},{\"attributes\":{\"children\":[{\"id\":\"5240\"},{\"id\":\"5308\"},{\"id\":\"5366\"}],\"margin\":[0,0,0,0],\"name\":\"Column11284\"},\"id\":\"5239\",\"type\":\"Column\"},{\"attributes\":{\"fill_alpha\":{\"value\":0.1},\"fill_color\":{\"value\":\"#1f77b3\"},\"line_alpha\":{\"value\":0.1},\"top\":{\"field\":\"sale_price_sqr_foot\"},\"width\":{\"value\":0.8},\"x\":{\"field\":\"neighborhood\"}},\"id\":\"5341\",\"type\":\"VBar\"},{\"attributes\":{\"end\":2016.0,\"reset_end\":2016.0,\"reset_start\":2010.0,\"start\":2010.0,\"tags\":[[[\"year\",\"year\",null]]]},\"id\":\"5244\",\"type\":\"Range1d\"},{\"attributes\":{\"data_source\":{\"id\":\"5337\"},\"glyph\":{\"id\":\"5340\"},\"hover_glyph\":null,\"muted_glyph\":{\"id\":\"5342\"},\"nonselection_glyph\":{\"id\":\"5341\"},\"selection_glyph\":null,\"view\":{\"id\":\"5344\"}},\"id\":\"5343\",\"type\":\"GlyphRenderer\"},{\"attributes\":{\"axis\":{\"id\":\"5260\"},\"dimension\":1,\"grid_line_color\":null,\"ticker\":null},\"id\":\"5263\",\"type\":\"Grid\"},{\"attributes\":{\"data_source\":{\"id\":\"5277\"},\"glyph\":{\"id\":\"5280\"},\"hover_glyph\":null,\"muted_glyph\":{\"id\":\"5282\"},\"nonselection_glyph\":{\"id\":\"5281\"},\"selection_glyph\":null,\"view\":{\"id\":\"5284\"}},\"id\":\"5283\",\"type\":\"GlyphRenderer\"},{\"attributes\":{\"margin\":[0,0,0,0],\"tabs\":[{\"id\":\"5367\"},{\"id\":\"5370\"}]},\"id\":\"5238\",\"type\":\"Tabs\"},{\"attributes\":{\"axis_label\":\"year\",\"bounds\":\"auto\",\"formatter\":{\"id\":\"5286\"},\"major_label_orientation\":\"horizontal\",\"ticker\":{\"id\":\"5257\"}},\"id\":\"5256\",\"type\":\"LinearAxis\"},{\"attributes\":{\"source\":{\"id\":\"5277\"}},\"id\":\"5284\",\"type\":\"CDSView\"},{\"attributes\":{\"axis\":{\"id\":\"5256\"},\"grid_line_color\":null,\"ticker\":null},\"id\":\"5259\",\"type\":\"Grid\"},{\"attributes\":{},\"id\":\"5278\",\"type\":\"Selection\"},{\"attributes\":{\"active_drag\":\"auto\",\"active_inspect\":\"auto\",\"active_multi\":null,\"active_scroll\":\"auto\",\"active_tap\":\"auto\",\"tools\":[{\"id\":\"5307\"},{\"id\":\"5324\"},{\"id\":\"5325\"},{\"id\":\"5326\"},{\"id\":\"5327\"},{\"id\":\"5328\"}]},\"id\":\"5330\",\"type\":\"Toolbar\"},{\"attributes\":{},\"id\":\"5252\",\"type\":\"LinearScale\"},{\"attributes\":{\"data\":{\"sale_price_sqr_foot\":{\"__ndarray__\":\"Dkc7WO0yckCafszcbwhxQIGRs5ot42ZAJzog0LQ8eEAWMinKGEd+QI0V5FDt0IJAVCHcmLVPdUA=\",\"dtype\":\"float64\",\"order\":\"little\",\"shape\":[7]},\"year\":[2010,2011,2012,2013,2014,2015,2016]},\"selected\":{\"id\":\"5278\"},\"selection_policy\":{\"id\":\"5295\"}},\"id\":\"5277\",\"type\":\"ColumnDataSource\"},{\"attributes\":{},\"id\":\"5286\",\"type\":\"BasicTickFormatter\"},{\"attributes\":{\"children\":[{\"id\":\"5241\"},{\"id\":\"5243\"}],\"margin\":[0,0,0,0],\"name\":\"Column11115\"},\"id\":\"5240\",\"type\":\"Column\"},{\"attributes\":{},\"id\":\"5321\",\"type\":\"BasicTicker\"},{\"attributes\":{\"axis_label\":\"sale_price_sqr_foot\",\"bounds\":\"auto\",\"formatter\":{\"id\":\"5348\"},\"major_label_orientation\":\"horizontal\",\"ticker\":{\"id\":\"5321\"}},\"id\":\"5320\",\"type\":\"LinearAxis\"},{\"attributes\":{},\"id\":\"5315\",\"type\":\"LinearScale\"},{\"attributes\":{\"bottom_units\":\"screen\",\"fill_alpha\":0.5,\"fill_color\":\"lightgrey\",\"left_units\":\"screen\",\"level\":\"overlay\",\"line_alpha\":1.0,\"line_color\":\"black\",\"line_dash\":[4,4],\"line_width\":2,\"right_units\":\"screen\",\"top_units\":\"screen\"},\"id\":\"5329\",\"type\":\"BoxAnnotation\"},{\"attributes\":{\"axis\":{\"id\":\"5317\"},\"grid_line_color\":null,\"ticker\":null},\"id\":\"5319\",\"type\":\"Grid\"},{\"attributes\":{\"children\":[{\"id\":\"5369\"}],\"margin\":[0,0,0,0],\"name\":\"Column06956\"},\"id\":\"5368\",\"type\":\"Column\"},{\"attributes\":{\"align\":null,\"below\":[{\"id\":\"5256\"}],\"center\":[{\"id\":\"5259\"},{\"id\":\"5263\"}],\"left\":[{\"id\":\"5260\"}],\"margin\":null,\"min_border_bottom\":10,\"min_border_left\":10,\"min_border_right\":10,\"min_border_top\":10,\"plot_height\":300,\"plot_width\":700,\"renderers\":[{\"id\":\"5283\"}],\"sizing_mode\":\"fixed\",\"title\":{\"id\":\"5248\"},\"toolbar\":{\"id\":\"5270\"},\"x_range\":{\"id\":\"5244\"},\"x_scale\":{\"id\":\"5252\"},\"y_range\":{\"id\":\"5245\"},\"y_scale\":{\"id\":\"5254\"}},\"id\":\"5247\",\"subtype\":\"Figure\",\"type\":\"Plot\"},{\"attributes\":{\"child\":{\"id\":\"5239\"},\"name\":\"Column11284\",\"title\":\"Neighborhood Analysis\"},\"id\":\"5367\",\"type\":\"Panel\"},{\"attributes\":{\"child\":{\"id\":\"5368\"},\"name\":\"Column06956\",\"title\":\"Parallel Charts\"},\"id\":\"5370\",\"type\":\"Panel\"},{\"attributes\":{\"children\":[{\"id\":\"5242\"}],\"margin\":[0,0,0,0],\"name\":\"Column11200\"},\"id\":\"5241\",\"type\":\"Column\"},{\"attributes\":{},\"id\":\"5345\",\"type\":\"CategoricalTickFormatter\"}],\"root_ids\":[\"5238\",\"5425\"]},\"title\":\"Bokeh Application\",\"version\":\"2.1.1\"}};\n",
       "  var render_items = [{\"docid\":\"6804511b-80e2-4d2d-9193-07b0535b487d\",\"root_ids\":[\"5238\"],\"roots\":{\"5238\":\"4b619d83-8c95-46f5-a74f-19acb83f8266\"}}];\n",
       "  root.Bokeh.embed.embed_items_notebook(docs_json, render_items);\n",
       "  }\n",
       "if (root.Bokeh !== undefined) {\n",
       "    embed_document(root);\n",
       "  } else {\n",
       "    var attempts = 0;\n",
       "    var timer = setInterval(function(root) {\n",
       "      if (root.Bokeh !== undefined) {\n",
       "        clearInterval(timer);\n",
       "        embed_document(root);\n",
       "      } else if (document.readyState == \"complete\") {\n",
       "        attempts++;\n",
       "        if (attempts > 100) {\n",
       "          clearInterval(timer);\n",
       "          console.log(\"Bokeh: ERROR: Unable to run BokehJS code because BokehJS library is missing\");\n",
       "        }\n",
       "      }\n",
       "    }, 10, root)\n",
       "  }\n",
       "})(window);</script>"
      ],
      "text/plain": [
       "Tabs\n",
       "    [0] Column\n",
       "        [0] Column\n",
       "            [0] Column\n",
       "                [0] Select(name='neighborhood', options=['Alamo Square', ...], value='Alamo Square')\n",
       "            [1] Row\n",
       "                [0] HoloViews(Curve, name='interactive11114')\n",
       "        [1] HoloViews(Bars)\n",
       "        [2] Plotly(Figure)\n",
       "    [1] Column\n",
       "        [0] Str(AxesSubplot)"
      ]
     },
     "execution_count": 77,
     "metadata": {
      "application/vnd.holoviews_exec.v0+json": {
       "id": "5238"
      }
     },
     "output_type": "execute_result"
    }
   ],
   "source": [
    "panel.servable()"
   ]
  },
  {
   "cell_type": "code",
   "execution_count": null,
   "metadata": {},
   "outputs": [],
   "source": []
  }
 ],
 "metadata": {
  "file_extension": ".py",
  "kernelspec": {
   "display_name": "Python 3",
   "language": "python",
   "name": "python3"
  },
  "language_info": {
   "codemirror_mode": {
    "name": "ipython",
    "version": 3
   },
   "file_extension": ".py",
   "mimetype": "text/x-python",
   "name": "python",
   "nbconvert_exporter": "python",
   "pygments_lexer": "ipython3",
   "version": "3.7.7"
  },
  "mimetype": "text/x-python",
  "name": "python",
  "npconvert_exporter": "python",
  "pygments_lexer": "ipython3",
  "version": 3
 },
 "nbformat": 4,
 "nbformat_minor": 4
}
